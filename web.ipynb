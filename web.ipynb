{
  "nbformat": 4,
  "nbformat_minor": 0,
  "metadata": {
    "colab": {
      "provenance": [],
      "collapsed_sections": [
        "WGBOXUwI8iEN"
      ]
    },
    "kernelspec": {
      "name": "python3",
      "display_name": "Python 3"
    },
    "language_info": {
      "name": "python"
    }
  },
  "cells": [
    {
      "cell_type": "markdown",
      "source": [
        "# WEB INTERFACE WOOOOHOOOOOOO!\n",
        "### @inputoutputcontrol"
      ],
      "metadata": {
        "id": "THAbjROH8ZoE"
      }
    },
    {
      "cell_type": "markdown",
      "source": [
        "## installing packages blablabla"
      ],
      "metadata": {
        "id": "CWreiqTt8WGk"
      }
    },
    {
      "cell_type": "code",
      "execution_count": null,
      "metadata": {
        "id": "Ee-CCP7Y8S2W"
      },
      "outputs": [],
      "source": [
        "import locale\n",
        "locale.getpreferredencoding = lambda: 'UTF-8'\n",
        "!pip install -q geoclip\n",
        "!pip install -q gradio\n",
        "from geoclip import GeoCLIP\n",
        "import torch\n",
        "if torch.cuda.is_available():\n",
        "  model = GeoCLIP().to(\"cuda\")\n",
        "else:\n",
        "  model = GeoCLIP()\n",
        "print(\"loaded\")\n",
        "from PIL import Image\n",
        "import numpy as np\n",
        "from google.colab import files\n",
        "import matplotlib.pyplot as plt\n",
        "import gradio as gr"
      ]
    },
    {
      "cell_type": "markdown",
      "source": [
        "## start web interface"
      ],
      "metadata": {
        "id": "WGBOXUwI8iEN"
      }
    },
    {
      "cell_type": "code",
      "source": [
        "import os\n",
        "import tempfile\n",
        "def predictlocation(image):\n",
        "    with tempfile.NamedTemporaryFile(suffix=\".jpg\") as tmp:\n",
        "        image.save(tmp.name)\n",
        "        top_pred_gps, top_pred_prob = model.predict(tmp.name, top_k=50)\n",
        "    predictions = []\n",
        "    for i in range(5):\n",
        "        lat, lon = top_pred_gps[i]\n",
        "        probpercent = top_pred_prob[i] * 100\n",
        "        prediction = f\"{i+1}: ({lat:.6f}, {lon:.6f}) - probability: {probpercent:.2f}%\"\n",
        "        predictions.append(prediction)\n",
        "    return \"\\n\".join(predictions)\n",
        "app = gr.Interface(\n",
        "    fn=predictlocation,\n",
        "    inputs=gr.Image(type=\"pil\", label=\"upload image\"),\n",
        "    outputs=gr.Textbox(label=\"predictions\"),\n",
        "    title=\"web interface for geolocation project @inputoutputcontrol\",\n",
        "    description=\"upload image to predict location\",\n",
        ")\n",
        "app.launch(share=True, debug=True)"
      ],
      "metadata": {
        "id": "75TQ-OvQ8doc"
      },
      "execution_count": null,
      "outputs": []
    }
  ]
}
