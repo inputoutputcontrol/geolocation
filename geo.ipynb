{
  "nbformat": 4,
  "nbformat_minor": 0,
  "metadata": {
    "colab": {
      "provenance": [],
      "collapsed_sections": [
        "_jG2UMXr9Fmj",
        "_KVQA09i9J-R",
        "7_I9ffgv9NEY"
      ],
      "gpuType": "T4"
    },
    "kernelspec": {
      "name": "python3",
      "display_name": "Python 3"
    },
    "language_info": {
      "name": "python"
    },
    "accelerator": "GPU"
  },
  "cells": [
    {
      "cell_type": "markdown",
      "source": [
        "# geolocation demo using ai\n",
        "### you can contact me on discord @inputoutputcontrol"
      ],
      "metadata": {
        "id": "OMSbzOb39DA6"
      }
    },
    {
      "cell_type": "markdown",
      "source": [
        "## installation & loading"
      ],
      "metadata": {
        "id": "_jG2UMXr9Fmj"
      }
    },
    {
      "cell_type": "code",
      "execution_count": null,
      "metadata": {
        "id": "J0tm6DzU81pw"
      },
      "outputs": [],
      "source": [
        "import locale\n",
        "locale.getpreferredencoding = lambda: 'UTF-8'\n",
        "!pip install -q geoclip\n",
        "from geoclip import GeoCLIP\n",
        "import torch\n",
        "if torch.cuda.is_available():\n",
        "  model = GeoCLIP().to(\"cuda\")\n",
        "else:\n",
        "  model = GeoCLIP()\n",
        "print(\"loaded\")\n",
        "from PIL import Image\n",
        "from io import BytesIO\n",
        "from google.colab import files\n",
        "import matplotlib.pyplot as plt\n",
        "import folium\n",
        "from folium.plugins import HeatMap"
      ]
    },
    {
      "cell_type": "markdown",
      "source": [
        "## image upload & predictions"
      ],
      "metadata": {
        "id": "_KVQA09i9J-R"
      }
    },
    {
      "cell_type": "code",
      "source": [
        "uploadd = files.upload()\n",
        "if uploadd:\n",
        "    imagename = next(iter(uploadd))\n",
        "    imagepath = BytesIO(uploadd[imagename])\n",
        "    print(\"uploaded\")\n",
        "    image = Image.open(imagepath)\n",
        "    plt.figure(figsize=(5, 5))\n",
        "    plt.imshow(image)\n",
        "    plt.axis('off')\n",
        "    plt.show()\n",
        "else:\n",
        "    print(\"no image\")\n",
        "top_pred_gps, top_pred_prob = model.predict(imagepath, top_k=50)\n",
        "print(\"predictions:\")\n",
        "for i in range(5):\n",
        "    lat, lon = top_pred_gps[i]\n",
        "    prob_percent = top_pred_prob[i] * 100\n",
        "    print(f\"{i+1}: ({lat:.6f}, {lon:.6f}) - probability: {prob_percent:.2f}%\")"
      ],
      "metadata": {
        "id": "OsQF24_F9KfV"
      },
      "execution_count": null,
      "outputs": []
    },
    {
      "cell_type": "markdown",
      "source": [
        "## mapping"
      ],
      "metadata": {
        "id": "7_I9ffgv9NEY"
      }
    },
    {
      "cell_type": "code",
      "source": [
        "topncoordinates = 10\n",
        "gpscoordinates = top_pred_gps.tolist()[:topncoordinates]\n",
        "probabilities = top_pred_prob.tolist()[:topncoordinates]\n",
        "total_prob = sum(probabilities)\n",
        "normalizedprobs = [prob / total_prob for prob in probabilities]\n",
        "weightedcoordinates = [(lat, lon, weight) for (lat, lon), weight in zip(gpscoordinates, normalizedprobs)]\n",
        "avglat = sum(lat for lat, lon, weight in weightedcoordinates) / len(weightedcoordinates)\n",
        "avglon = sum(lon for lat, lon, weight in weightedcoordinates) / len(weightedcoordinates)\n",
        "m = folium.Map(location=[avglat, avglon], zoom_start=2.2)\n",
        "magma = {\n",
        "    0.0: '#932667',\n",
        "    0.2: '#b5367a',\n",
        "    0.4: '#d3466b',\n",
        "    0.6: '#f1605d',\n",
        "    0.8: '#fd9668',\n",
        "    1.0: '#fcfdbf'\n",
        "}\n",
        "HeatMap(weightedcoordinates, gradient=magma).add_to(m)\n",
        "topcoordinate = gpscoordinates[0]\n",
        "topprobability = normalizedprobs[0]\n",
        "folium.Marker(\n",
        "    location=topcoordinate,\n",
        "    popup=f\"{topcoordinate};{topprobability:.4f}\",\n",
        "    icon=folium.Icon(color='orange', icon='star')\n",
        ").add_to(m)\n",
        "m"
      ],
      "metadata": {
        "id": "Fi_jrTNa9PLn"
      },
      "execution_count": null,
      "outputs": []
    }
  ]
}
